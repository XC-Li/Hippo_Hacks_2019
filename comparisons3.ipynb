{
 "cells": [
  {
   "cell_type": "code",
   "execution_count": 146,
   "metadata": {},
   "outputs": [],
   "source": [
    "import googlemaps"
   ]
  },
  {
   "cell_type": "code",
   "execution_count": 147,
   "metadata": {},
   "outputs": [
    {
     "name": "stdout",
     "output_type": "stream",
     "text": [
      "The autoreload extension is already loaded. To reload it, use:\n",
      "  %reload_ext autoreload\n"
     ]
    }
   ],
   "source": [
    "%load_ext autoreload\n",
    "%autoreload 1"
   ]
  },
  {
   "cell_type": "code",
   "execution_count": 148,
   "metadata": {},
   "outputs": [],
   "source": [
    "%aimport google_api\n",
    "g = google_api.GoogleApi()\n",
    "result = g.travel(origin=[38.8568095, -77.0542624],\n",
    "                  destination='AMC Georgetown 14, 3111 K St NW, Washington, DC 20007', \n",
    "                  mode='transit',\n",
    "                  departure_time='2019-04-13-09-30')"
   ]
  },
  {
   "cell_type": "code",
   "execution_count": 149,
   "metadata": {},
   "outputs": [
    {
     "data": {
      "text/plain": [
       "datetime.datetime(2019, 4, 13, 9, 31, 40)"
      ]
     },
     "execution_count": 149,
     "metadata": {},
     "output_type": "execute_result"
    }
   ],
   "source": [
    "import datetime as dt\n",
    "from datetime import datetime\n",
    "def add_time(start_time, add_time):\n",
    "    if not isinstance(start_time, datetime):  # input is not a datetime object\n",
    "        if len(start_time.split('-')) != 5:\n",
    "            raise ValueError('Wrong time format, should be year-month-day-hour-minute')\n",
    "        year, month, day, hour, minute = start_time.split('-')\n",
    "        start = dt.datetime(int(year), int(month), int(day), int(hour), int(minute))\n",
    "        end = start + dt.timedelta(seconds=add_time)\n",
    "    else:\n",
    "        end = start_time + dt.timedelta(seconds=add_time)\n",
    "    return end\n",
    "add_time('2019-04-13-09-30',100)"
   ]
  },
  {
   "cell_type": "code",
   "execution_count": 150,
   "metadata": {},
   "outputs": [
    {
     "data": {
      "text/plain": [
       "{'steps': [{'start': {'lat': 38.8568095, 'lng': -77.0542619},\n",
       "   'end': {'lat': 38.8580163, 'lng': -77.05154379999999},\n",
       "   'html': 'Walk to Crystal City Station',\n",
       "   'travel_mode': 'WALKING'},\n",
       "  {'start': {'lat': 38.8580227, 'lng': -77.0514099},\n",
       "   'end': {'lat': 38.9008727, 'lng': -77.0504606},\n",
       "   'html': 'Metro rail towards Largo Town Center',\n",
       "   'travel_mode': 'TRANSIT'},\n",
       "  {'start': {'lat': 38.90077309999999, 'lng': -77.05046089999999},\n",
       "   'end': {'lat': 38.9025719, 'lng': -77.0617568},\n",
       "   'html': 'Walk to 3111 K St NW, Washington, DC 20007, USA',\n",
       "   'travel_mode': 'WALKING'}],\n",
       " 'metro': [{'start': {'location': {'lat': 38.8580227, 'lng': -77.0514099},\n",
       "    'name': 'Crystal City Station'},\n",
       "   'end': {'location': {'lat': 38.9008727, 'lng': -77.0504606},\n",
       "    'name': 'Foggy Bottom-GWU'},\n",
       "   'duration': 660}],\n",
       " 'bus': [],\n",
       " 'walk': [{'duration': 267}, {'duration': 964}],\n",
       " 'total_time': 1893}"
      ]
     },
     "execution_count": 150,
     "metadata": {},
     "output_type": "execute_result"
    }
   ],
   "source": [
    "result"
   ]
  },
  {
   "cell_type": "code",
   "execution_count": 151,
   "metadata": {},
   "outputs": [],
   "source": [
    "from find_nearest_bike_location import *"
   ]
  },
  {
   "cell_type": "code",
   "execution_count": 152,
   "metadata": {},
   "outputs": [
    {
     "name": "stdout",
     "output_type": "stream",
     "text": [
      "([[38.8853, -77.05]], [[38.857766, -77.05958]], {'station_id': 204, 'name': 'Lincoln Memorial'}, {'station_id': 5, 'name': 'Aurora Hills Cmty Ctr / 18th St & S Hayes St'})\n"
     ]
    }
   ],
   "source": [
    "find_bike = FindNearestBikeLocation()\n",
    "depart, dest = [38.885300, -77.050000], [38.857766, -77.059580]\n",
    "print(find_bike.find_neareast_bike_station(depart, dest))"
   ]
  },
  {
   "cell_type": "markdown",
   "metadata": {},
   "source": [
    "## 1. bicycle only"
   ]
  },
  {
   "cell_type": "code",
   "execution_count": 153,
   "metadata": {},
   "outputs": [],
   "source": [
    "mode = ['walking', 'transit', 'bicycling']"
   ]
  },
  {
   "cell_type": "code",
   "execution_count": 154,
   "metadata": {},
   "outputs": [],
   "source": [
    "def time_of_bicycling(depart,dest,depart_time='2019-04-13-09-30'):\n",
    "    '''\n",
    "    it's a problem of walking + bicycling + walking\n",
    "    Args : depart --> (latitude,longitude)\n",
    "           dest --> (latitude,longitude)\n",
    "    Return : path, path_walk1, path_bicycle, path_walk2, total_time\n",
    "    '''\n",
    "    \n",
    "    # bicycling location\n",
    "    bike_depart,bike_dest,bike_depart_name,bike_dest_name = find_bike.find_neareast_bike_station(depart, dest)\n",
    "    \n",
    "    # walking\n",
    "    walk_res1 = g.travel(origin=depart,\n",
    "                         destination=bike_depart[0], \n",
    "                         mode='walking',\n",
    "                         departure_time=depart_time)\n",
    "    \n",
    "    depart_time2 = add_time(depart_time,walk_res1['total_time'])\n",
    "    # bicycle\n",
    "    bicycle_result = g.travel(origin=bike_depart[0],\n",
    "                              destination=bike_dest[0], \n",
    "                              mode='bicycling',\n",
    "                              departure_time=depart_time2)\n",
    "    \n",
    "    depart_time3 = add_time(depart_time2,bicycle_result['total_time'])\n",
    "    \n",
    "    walk_res2 = g.travel(origin=bike_dest[0],\n",
    "                         destination=dest, \n",
    "                         mode='walking',\n",
    "                         departure_time=depart_time3)\n",
    "    #bicycle path\n",
    "    path_bicycle = []\n",
    "    for i in result['steps']:\n",
    "        tmp_depart = []\n",
    "        tmp_depart.append(i['start']['lat'])\n",
    "        tmp_depart.append(i['start']['lng'])\n",
    "\n",
    "        tmp_dest = []\n",
    "        tmp_dest.append(i['end']['lat'])\n",
    "        tmp_dest.append(i['end']['lng'])\n",
    "\n",
    "        path_bicycle.append([tmp_depart,tmp_dest]) \n",
    "    walk_time = walk_res1['total_time'] + walk_res2['total_time']\n",
    "    \n",
    "    # first walk path\n",
    "    path_walk1 = []\n",
    "    for i in walk_res1['steps']:\n",
    "        tmp_depart = []\n",
    "        tmp_depart.append(i['start']['lat'])\n",
    "        tmp_depart.append(i['start']['lng'])\n",
    "\n",
    "        tmp_dest = []\n",
    "        tmp_dest.append(i['end']['lat'])\n",
    "        tmp_dest.append(i['end']['lng'])\n",
    "\n",
    "        path_walk1.append([tmp_depart,tmp_dest]) \n",
    "    # second walk path   \n",
    "    path_walk2 = []\n",
    "    for i in walk_res2['steps']:\n",
    "        tmp_depart = []\n",
    "        tmp_depart.append(i['start']['lat'])\n",
    "        tmp_depart.append(i['start']['lng'])\n",
    "\n",
    "        tmp_dest = []\n",
    "        tmp_dest.append(i['end']['lat'])\n",
    "        tmp_dest.append(i['end']['lng'])\n",
    "\n",
    "        path_walk2.append([tmp_depart,tmp_dest]) \n",
    "    \n",
    "    \n",
    "    # return path and time\n",
    "    total_time = 0\n",
    "    total_time += bicycle_result['total_time'] + walk_time\n",
    "    \n",
    "    path = []\n",
    "    path += path_walk1 + path_bicycle + path_walk2\n",
    "    return path_walk1, path_bicycle, path_walk2, total_time"
   ]
  },
  {
   "cell_type": "code",
   "execution_count": 155,
   "metadata": {},
   "outputs": [],
   "source": [
    "path_walk1, path_bicycle, path_walk2, total_time = time_of_bicycling(depart,dest)"
   ]
  },
  {
   "cell_type": "code",
   "execution_count": 156,
   "metadata": {},
   "outputs": [
    {
     "name": "stdout",
     "output_type": "stream",
     "text": [
      "path_walk1: [[[38.8860017, -77.0492223], [38.8860017, -77.0492223]]]\n",
      "\n",
      "path_bicycle: [[[38.8568095, -77.0542619], [38.8580163, -77.05154379999999]], [[38.8580227, -77.0514099], [38.9008727, -77.0504606]], [[38.90077309999999, -77.05046089999999], [38.9025719, -77.0617568]]]\n",
      "\n",
      "path_walk2: [[[38.8578163, -77.0595534], [38.8578163, -77.0595534]]]\n",
      "\n",
      "total_time: 1577\n",
      "\n"
     ]
    }
   ],
   "source": [
    "print('path_walk1:',path_walk1)\n",
    "print()\n",
    "print('path_bicycle:',path_bicycle)\n",
    "print()\n",
    "print('path_walk2:',path_walk2)\n",
    "print()\n",
    "print('total_time:',total_time)\n",
    "print()"
   ]
  },
  {
   "cell_type": "markdown",
   "metadata": {},
   "source": [
    "## 2. google suggestion (metro + bus + walking)"
   ]
  },
  {
   "cell_type": "code",
   "execution_count": 170,
   "metadata": {},
   "outputs": [],
   "source": [
    "def time_of_googlemap(depart,dest,depart_time='2019-04-13-09-30'):\n",
    "    '''\n",
    "    it's a problem of walking + bus(optional) + metro + bus(optional) + walking\n",
    "    Args : depart --> (latitude,longitude)\n",
    "           dest --> (latitude,longitude)\n",
    "           departure time\n",
    "    Return : path_walk, path_transit, total_time\n",
    "    '''\n",
    "    result = g.travel(origin=depart,\n",
    "                      destination=dest, \n",
    "                      mode='transit',\n",
    "                      departure_time=depart_time)\n",
    "    total_time = result['total_time']\n",
    "    # path\n",
    "    path = []\n",
    "    \n",
    "    for i in result['steps']:\n",
    "        tmp_depart = []\n",
    "        tmp_depart.append(i['start']['lat'])\n",
    "        tmp_depart.append(i['start']['lng'])\n",
    "\n",
    "        tmp_dest = []\n",
    "        tmp_dest.append(i['end']['lat'])\n",
    "        tmp_dest.append(i['end']['lng'])\n",
    "\n",
    "        path.append([tmp_depart,tmp_dest])\n",
    "\n",
    "    return path, total_time"
   ]
  },
  {
   "cell_type": "code",
   "execution_count": 171,
   "metadata": {},
   "outputs": [
    {
     "name": "stdout",
     "output_type": "stream",
     "text": [
      "path: [[[38.8860017, -77.0492223], [38.8843884, -77.06365319999999]], [[38.8845641, -77.0631731], [38.862692, -77.0595202]], [[38.8626772, -77.0596499], [38.8578225, -77.0595745]]]\n",
      "\n",
      "total_time: 2037\n"
     ]
    }
   ],
   "source": [
    "path,total_time = time_of_googlemap(depart,dest)\n",
    "print('path:',path)\n",
    "print()\n",
    "print('total_time:',total_time)"
   ]
  },
  {
   "cell_type": "markdown",
   "metadata": {},
   "source": [
    "## 3. walk + bicycle + metro "
   ]
  },
  {
   "cell_type": "code",
   "execution_count": 167,
   "metadata": {},
   "outputs": [],
   "source": [
    "# a basic version\n",
    "# walk + bicycle + metro + walk\n",
    "def walk_bicycle_metro(depart,dest,depart_time='2019-04-13-09-30'):\n",
    "    '''\n",
    "    it's a problem of walking + bicycle + metro\n",
    "    Args : depart --> (latitude,longitude)\n",
    "           dest --> (latitude,longitude)\n",
    "    Return : path_walk,path_bicycle,path_metro,total_time\n",
    "    '''\n",
    "    bike_depart,bike_dest,bike_depart_name,bike_dest_name = find_bike.find_neareast_bike_station(depart, dest)\n",
    "\n",
    "    walk_result = g.travel(origin=depart,\n",
    "                           destination=bike_depart[0], \n",
    "                           mode='walking',\n",
    "                           departure_time=depart_time)\n",
    "    walk_time = walk_result['total_time']\n",
    "    depart_time2 = add_time(depart_time,walk_time)\n",
    "    \n",
    "    #path walk\n",
    "    path_walk = []\n",
    "    for i in walk_result['steps']:\n",
    "        if i['travel_mode'] == 'WALKING':\n",
    "            tmp_depart = []\n",
    "            tmp_depart.append(i['start']['lat'])\n",
    "            tmp_depart.append(i['start']['lng'])\n",
    "\n",
    "            tmp_dest = []\n",
    "            tmp_dest.append(i['end']['lat'])\n",
    "            tmp_dest.append(i['end']['lng'])\n",
    "\n",
    "            path_walk.append([tmp_depart,tmp_dest])\n",
    "\n",
    "    bicycle_result = g.travel(origin=bike_depart[0],\n",
    "                              destination=bike_dest[0], \n",
    "                              mode='bicycling',\n",
    "                              departure_time=depart_time2)\n",
    "\n",
    "    bicycle_time = bicycle_result['total_time']\n",
    "    depart_time3 = add_time(depart_time2,bicycle_time)\n",
    "    \n",
    "    #path bicycle\n",
    "    path_bicycle = []\n",
    "    for i in bicycle_result['steps']:\n",
    "\n",
    "        tmp_depart = []\n",
    "        tmp_depart.append(i['start']['lat'])\n",
    "        tmp_depart.append(i['start']['lng'])\n",
    "\n",
    "        tmp_dest = []\n",
    "        tmp_dest.append(i['end']['lat'])\n",
    "        tmp_dest.append(i['end']['lng'])\n",
    "\n",
    "        path_bicycle.append([tmp_depart,tmp_dest])\n",
    "\n",
    "    metro_walk_result = g.travel(origin=bike_dest[0],\n",
    "                                 destination=dest, \n",
    "                                 mode='transit',\n",
    "                                 departure_time=depart_time3)\n",
    "    metro_walk_time = metro_walk_result['total_time']\n",
    "    path_metro = []\n",
    "    path_walk2 = []\n",
    "    for i in result['steps']:\n",
    "        if i['travel_mode'] == 'WALKING':\n",
    "            tmp_depart = []\n",
    "            tmp_depart.append(i['start']['lat'])\n",
    "            tmp_depart.append(i['start']['lng'])\n",
    "\n",
    "            tmp_dest = []\n",
    "            tmp_dest.append(i['end']['lat'])\n",
    "            tmp_dest.append(i['end']['lng'])\n",
    "\n",
    "            path_walk2.append([tmp_depart,tmp_dest])\n",
    "\n",
    "        if i['travel_mode'] == 'TRANSIT':\n",
    "            tmp_depart2 = []\n",
    "            tmp_depart2.append(i['start']['lat'])\n",
    "            tmp_depart2.append(i['start']['lng'])\n",
    "\n",
    "            tmp_dest2 = []\n",
    "            tmp_dest2.append(i['end']['lat'])\n",
    "            tmp_dest2.append(i['end']['lng'])\n",
    "\n",
    "            path_metro.append([tmp_depart2,tmp_dest2]) \n",
    "\n",
    "    total_time = walk_time + bicycle_time + metro_walk_time\n",
    "    return path_walk,path_bicycle,path_metro,path_walk2,total_time"
   ]
  },
  {
   "cell_type": "code",
   "execution_count": 169,
   "metadata": {},
   "outputs": [
    {
     "name": "stdout",
     "output_type": "stream",
     "text": [
      "path_walk: [[[38.8860017, -77.0492223], [38.8860017, -77.0492223]]]\n",
      "\n",
      "path_bicycle: [[[38.8860017, -77.0492223], [38.8870097, -77.04997949999999]], [[38.8870097, -77.04997949999999], [38.8869307, -77.03761589999999]], [[38.8869307, -77.03761589999999], [38.8868707, -77.03762610000001]], [[38.8868707, -77.03762610000001], [38.8838731, -77.0331922]], [[38.8838731, -77.0331922], [38.8799921, -77.0353059]], [[38.8799921, -77.0353059], [38.879887, -77.0373224]], [[38.879887, -77.0373224], [38.87464370000001, -77.0454924]], [[38.87464370000001, -77.0454924], [38.8607933, -77.0452198]], [[38.8607933, -77.0452198], [38.8565309, -77.0466082]], [[38.8565309, -77.0466082], [38.8581182, -77.0492113]], [[38.8581182, -77.0492113], [38.8576068, -77.049249]], [[38.8576068, -77.049249], [38.8573781, -77.0557524]], [[38.8573781, -77.0557524], [38.8564113, -77.0556182]], [[38.8564113, -77.0556182], [38.8563718, -77.05763429999999]], [[38.8563718, -77.05763429999999], [38.8572073, -77.057667]], [[38.8572073, -77.057667], [38.8571357, -77.0594564]], [[38.8571357, -77.0594564], [38.8578163, -77.0595534]]]\n",
      "\n",
      "path_metro: [[[38.8580227, -77.0514099], [38.9008727, -77.0504606]]]\n",
      "\n",
      "path_walk2: [[[38.8568095, -77.0542619], [38.8580163, -77.05154379999999]], [[38.90077309999999, -77.05046089999999], [38.9025719, -77.0617568]]]\n",
      "\n",
      "total_time: 1577\n"
     ]
    }
   ],
   "source": [
    "path_walk,path_bicycle,path_metro,path_walk2, total_time = walk_bicycle_metro(depart,dest)\n",
    "print('path_walk:',path_walk)\n",
    "print()\n",
    "print('path_bicycle:',path_bicycle)\n",
    "print()\n",
    "print('path_metro:',path_metro)\n",
    "print()\n",
    "print('path_walk2:',path_walk2)\n",
    "print()\n",
    "print('total_time:',total_time)"
   ]
  },
  {
   "cell_type": "markdown",
   "metadata": {},
   "source": [
    "## 4. Comparison and pick one best methods among these 3"
   ]
  },
  {
   "cell_type": "code",
   "execution_count": 165,
   "metadata": {},
   "outputs": [],
   "source": [
    "def comparison():\n",
    "    ff, hh, gg, t1 = time_of_bicycling(depart,dest)\n",
    "    dd, ee,t2 = time_of_googlemap(depart,dest)\n",
    "    aa,bb,cc,t3 = walk_bicycle_metro(depart,dest)\n",
    "    min_time = min(t1,t2,t3)\n",
    "    if t1 == min_time:\n",
    "        print('best solution: only use bicycle.')\n",
    "    if t2 == min_time:\n",
    "        print('best solution: use google map solution.')\n",
    "    if t3 == min_time:\n",
    "        print('best solution: use both bicycle and metro.')"
   ]
  },
  {
   "cell_type": "code",
   "execution_count": 166,
   "metadata": {},
   "outputs": [
    {
     "name": "stdout",
     "output_type": "stream",
     "text": [
      "best solution: only use bicycle.\n",
      "best solution: use both bicycle and metro.\n"
     ]
    }
   ],
   "source": [
    "comparison()"
   ]
  }
 ],
 "metadata": {
  "kernelspec": {
   "display_name": "Python 3",
   "language": "python",
   "name": "python3"
  },
  "language_info": {
   "codemirror_mode": {
    "name": "ipython",
    "version": 3
   },
   "file_extension": ".py",
   "mimetype": "text/x-python",
   "name": "python",
   "nbconvert_exporter": "python",
   "pygments_lexer": "ipython3",
   "version": "3.6.5"
  }
 },
 "nbformat": 4,
 "nbformat_minor": 2
}
