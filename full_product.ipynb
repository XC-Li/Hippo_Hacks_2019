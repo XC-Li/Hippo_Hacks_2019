{
 "cells": [
  {
   "cell_type": "code",
   "execution_count": 2,
   "metadata": {},
   "outputs": [],
   "source": [
    "%load_ext autoreload\n",
    "%autoreload 1"
   ]
  },
  {
   "cell_type": "code",
   "execution_count": 3,
   "metadata": {},
   "outputs": [],
   "source": [
    "%aimport google_api\n",
    "%aimport find_nearest_bike_location\n",
    "g = google_api.GoogleApi()\n",
    "f = find_nearest_bike_location.FindNearestBikeLocation()"
   ]
  },
  {
   "cell_type": "code",
   "execution_count": 4,
   "metadata": {},
   "outputs": [],
   "source": [
    "origin='1900 South Eads Street, Arlington, VA'\n",
    "destination='AMC Georgetown 14, 3111 K St NW, Washington, DC 20007'\n",
    "departure_time='Apr 13 2019 09:30AM'\n",
    "# return a list of long,lat"
   ]
  },
  {
   "cell_type": "code",
   "execution_count": 5,
   "metadata": {},
   "outputs": [],
   "source": [
    "google_route = g.travel(origin=origin,destination=destination, \n",
    "                        mode='transit',departure_time=departure_time)"
   ]
  },
  {
   "cell_type": "code",
   "execution_count": 7,
   "metadata": {},
   "outputs": [],
   "source": [
    "google_total_time = google_route['total_time']\n",
    "google_bus = google_route['bus']\n",
    "google_metro = google_route['metro']\n",
    "google_walk = google_route['walk']"
   ]
  },
  {
   "cell_type": "code",
   "execution_count": 8,
   "metadata": {},
   "outputs": [
    {
     "data": {
      "text/plain": [
       "[]"
      ]
     },
     "execution_count": 8,
     "metadata": {},
     "output_type": "execute_result"
    }
   ],
   "source": [
    "google_bus"
   ]
  },
  {
   "cell_type": "code",
   "execution_count": 7,
   "metadata": {},
   "outputs": [],
   "source": [
    "%aimport comparison"
   ]
  },
  {
   "cell_type": "code",
   "execution_count": 45,
   "metadata": {},
   "outputs": [
    {
     "name": "stdout",
     "output_type": "stream",
     "text": [
      "best solution: only use bicycle.\n"
     ]
    }
   ],
   "source": [
    "depart, dest = [38.885300, -77.050000], [38.857766, -77.059580]\n",
    "result = comparison.comparison(depart, dest, '2019-04-13-09-30')"
   ]
  },
  {
   "cell_type": "code",
   "execution_count": 21,
   "metadata": {},
   "outputs": [
    {
     "data": {
      "text/plain": [
       "[1, 2, 3, 4]"
      ]
     },
     "execution_count": 21,
     "metadata": {},
     "output_type": "execute_result"
    }
   ],
   "source": [
    "[1,2] + [3,4]"
   ]
  },
  {
   "cell_type": "code",
   "execution_count": 47,
   "metadata": {},
   "outputs": [
    {
     "data": {
      "text/plain": [
       "[[38.8860017, -77.0492223],\n",
       " [38.8860017, -77.0492223],\n",
       " [38.8870097, -77.04997949999999],\n",
       " [38.8869307, -77.03761589999999],\n",
       " [38.8868707, -77.03762610000001],\n",
       " [38.8838731, -77.0331922],\n",
       " [38.8799921, -77.0353059],\n",
       " [38.879887, -77.0373224],\n",
       " [38.87464370000001, -77.0454924],\n",
       " [38.8607933, -77.0452198],\n",
       " [38.8565309, -77.0466082],\n",
       " [38.8581182, -77.0492113],\n",
       " [38.8576068, -77.049249],\n",
       " [38.8573781, -77.0557524],\n",
       " [38.8564113, -77.0556182],\n",
       " [38.8563718, -77.05763429999999],\n",
       " [38.8572073, -77.057667],\n",
       " [38.8571357, -77.0594564]]"
      ]
     },
     "execution_count": 47,
     "metadata": {},
     "output_type": "execute_result"
    }
   ],
   "source": [
    "x= []\n",
    "target_list = []\n",
    "for i in result['only_bike'][:-1]:\n",
    "    x = x + i\n",
    "for j in x[:-1]:\n",
    "    target_list.append(j[0])\n",
    "target_list"
   ]
  },
  {
   "cell_type": "code",
   "execution_count": 49,
   "metadata": {},
   "outputs": [],
   "source": [
    "import draw_map"
   ]
  },
  {
   "cell_type": "code",
   "execution_count": 50,
   "metadata": {},
   "outputs": [],
   "source": [
    "draw_map.draw_map(target_list)"
   ]
  },
  {
   "cell_type": "code",
   "execution_count": 40,
   "metadata": {},
   "outputs": [],
   "source": [
    "# result['only_bike'][:-1]"
   ]
  },
  {
   "cell_type": "code",
   "execution_count": 30,
   "metadata": {},
   "outputs": [
    {
     "data": {
      "text/plain": [
       "[[[38.8860017, -77.0492223], [38.8860017, -77.0492223]],\n",
       " [[38.8860017, -77.0492223], [38.8870097, -77.04997949999999]],\n",
       " [[38.8870097, -77.04997949999999], [38.8869307, -77.03761589999999]],\n",
       " [[38.8869307, -77.03761589999999], [38.8868707, -77.03762610000001]],\n",
       " [[38.8868707, -77.03762610000001], [38.8838731, -77.0331922]],\n",
       " [[38.8838731, -77.0331922], [38.8799921, -77.0353059]],\n",
       " [[38.8799921, -77.0353059], [38.879887, -77.0373224]],\n",
       " [[38.879887, -77.0373224], [38.87464370000001, -77.0454924]],\n",
       " [[38.87464370000001, -77.0454924], [38.8607933, -77.0452198]],\n",
       " [[38.8607933, -77.0452198], [38.8565309, -77.0466082]],\n",
       " [[38.8565309, -77.0466082], [38.8581182, -77.0492113]],\n",
       " [[38.8581182, -77.0492113], [38.8576068, -77.049249]],\n",
       " [[38.8576068, -77.049249], [38.8573781, -77.0557524]],\n",
       " [[38.8573781, -77.0557524], [38.8564113, -77.0556182]],\n",
       " [[38.8564113, -77.0556182], [38.8563718, -77.05763429999999]],\n",
       " [[38.8563718, -77.05763429999999], [38.8572073, -77.057667]],\n",
       " [[38.8572073, -77.057667], [38.8571357, -77.0594564]],\n",
       " [[38.8571357, -77.0594564], [38.8578163, -77.0595534]],\n",
       " [[38.8578163, -77.0595534], [38.8578163, -77.0595534]]]"
      ]
     },
     "execution_count": 30,
     "metadata": {},
     "output_type": "execute_result"
    }
   ],
   "source": [
    "x"
   ]
  },
  {
   "cell_type": "code",
   "execution_count": 41,
   "metadata": {},
   "outputs": [
    {
     "name": "stdout",
     "output_type": "stream",
     "text": [
      "[38.8860017, -77.0492223]\n",
      "--------\n",
      "[38.8860017, -77.0492223]\n",
      "--------\n",
      "[38.8870097, -77.04997949999999]\n",
      "--------\n",
      "[38.8869307, -77.03761589999999]\n",
      "--------\n",
      "[38.8868707, -77.03762610000001]\n",
      "--------\n",
      "[38.8838731, -77.0331922]\n",
      "--------\n",
      "[38.8799921, -77.0353059]\n",
      "--------\n",
      "[38.879887, -77.0373224]\n",
      "--------\n",
      "[38.87464370000001, -77.0454924]\n",
      "--------\n",
      "[38.8607933, -77.0452198]\n",
      "--------\n",
      "[38.8565309, -77.0466082]\n",
      "--------\n",
      "[38.8581182, -77.0492113]\n",
      "--------\n",
      "[38.8576068, -77.049249]\n",
      "--------\n",
      "[38.8573781, -77.0557524]\n",
      "--------\n",
      "[38.8564113, -77.0556182]\n",
      "--------\n",
      "[38.8563718, -77.05763429999999]\n",
      "--------\n",
      "[38.8572073, -77.057667]\n",
      "--------\n",
      "[38.8571357, -77.0594564]\n",
      "--------\n"
     ]
    }
   ],
   "source": [
    "for i in x[:-1]:\n",
    "    print(i[0])\n",
    "    print('--------')"
   ]
  },
  {
   "cell_type": "code",
   "execution_count": 19,
   "metadata": {},
   "outputs": [
    {
     "name": "stdout",
     "output_type": "stream",
     "text": [
      "[38.8860017, -77.0492223]\n",
      "[38.8860017, -77.0492223]\n",
      "[38.8860017, -77.0492223]\n",
      "[38.8870097, -77.04997949999999]\n",
      "[38.8870097, -77.04997949999999]\n",
      "[38.8869307, -77.03761589999999]\n",
      "[38.8869307, -77.03761589999999]\n",
      "[38.8868707, -77.03762610000001]\n",
      "[38.8868707, -77.03762610000001]\n",
      "[38.8838731, -77.0331922]\n",
      "[38.8838731, -77.0331922]\n",
      "[38.8799921, -77.0353059]\n",
      "[38.8799921, -77.0353059]\n",
      "[38.879887, -77.0373224]\n",
      "[38.879887, -77.0373224]\n",
      "[38.87464370000001, -77.0454924]\n",
      "[38.87464370000001, -77.0454924]\n",
      "[38.8607933, -77.0452198]\n",
      "[38.8607933, -77.0452198]\n",
      "[38.8565309, -77.0466082]\n",
      "[38.8565309, -77.0466082]\n",
      "[38.8581182, -77.0492113]\n",
      "[38.8581182, -77.0492113]\n",
      "[38.8576068, -77.049249]\n",
      "[38.8576068, -77.049249]\n",
      "[38.8573781, -77.0557524]\n",
      "[38.8573781, -77.0557524]\n",
      "[38.8564113, -77.0556182]\n",
      "[38.8564113, -77.0556182]\n",
      "[38.8563718, -77.05763429999999]\n",
      "[38.8563718, -77.05763429999999]\n",
      "[38.8572073, -77.057667]\n",
      "[38.8572073, -77.057667]\n",
      "[38.8571357, -77.0594564]\n",
      "[38.8571357, -77.0594564]\n",
      "[38.8578163, -77.0595534]\n",
      "[38.8578163, -77.0595534]\n",
      "[38.8578163, -77.0595534]\n"
     ]
    }
   ],
   "source": [
    "trace = []\n",
    "for item in result['only_bike'][:-1]:\n",
    "    for i in item:\n",
    "        for ii in i:\n",
    "            print(ii)"
   ]
  },
  {
   "cell_type": "code",
   "execution_count": null,
   "metadata": {},
   "outputs": [],
   "source": [
    "https://maps.googleapis.com/maps/api/geocode/json?address=1600+Amphitheatre+Parkway,+Mountain+View,+CA&key=YOUR_API_KEY"
   ]
  },
  {
   "cell_type": "code",
   "execution_count": 51,
   "metadata": {},
   "outputs": [],
   "source": [
    "%aimport main_program"
   ]
  },
  {
   "cell_type": "code",
   "execution_count": 54,
   "metadata": {},
   "outputs": [
    {
     "name": "stdout",
     "output_type": "stream",
     "text": [
      "best solution: only use bicycle.\n"
     ]
    }
   ],
   "source": [
    "main_program.main_function()"
   ]
  }
 ],
 "metadata": {
  "kernelspec": {
   "display_name": "Python 3",
   "language": "python",
   "name": "python3"
  },
  "language_info": {
   "codemirror_mode": {
    "name": "ipython",
    "version": 3
   },
   "file_extension": ".py",
   "mimetype": "text/x-python",
   "name": "python",
   "nbconvert_exporter": "python",
   "pygments_lexer": "ipython3",
   "version": "3.6.7"
  }
 },
 "nbformat": 4,
 "nbformat_minor": 2
}
