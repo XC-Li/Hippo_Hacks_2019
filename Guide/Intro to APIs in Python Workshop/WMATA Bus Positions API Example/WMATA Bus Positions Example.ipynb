{
 "cells": [
  {
   "cell_type": "markdown",
   "metadata": {},
   "source": [
    "## WMATA Bus Positions Example"
   ]
  },
  {
   "cell_type": "markdown",
   "metadata": {},
   "source": [
    "Import pandas library for data analysis and requests library for API requests"
   ]
  },
  {
   "cell_type": "code",
   "execution_count": 1,
   "metadata": {},
   "outputs": [],
   "source": [
    "import pandas as pd\n",
    "import requests"
   ]
  },
  {
   "cell_type": "markdown",
   "metadata": {},
   "source": [
    "Add header for WMATA API key"
   ]
  },
  {
   "cell_type": "code",
   "execution_count": 2,
   "metadata": {},
   "outputs": [],
   "source": [
    "headers = {'api_key': '5d7494bbde0c411981d3832703734b09'}"
   ]
  },
  {
   "cell_type": "markdown",
   "metadata": {},
   "source": [
    "API request for bus positions"
   ]
  },
  {
   "cell_type": "code",
   "execution_count": 3,
   "metadata": {},
   "outputs": [],
   "source": [
    "bus_positions = requests.get('https://api.wmata.com/Bus.svc/json/jBusPositions', headers=headers)"
   ]
  },
  {
   "cell_type": "markdown",
   "metadata": {},
   "source": [
    "Status code for bus position request"
   ]
  },
  {
   "cell_type": "code",
   "execution_count": 4,
   "metadata": {},
   "outputs": [
    {
     "data": {
      "text/plain": [
       "200"
      ]
     },
     "execution_count": 4,
     "metadata": {},
     "output_type": "execute_result"
    }
   ],
   "source": [
    "bus_positions.status_code"
   ]
  },
  {
   "cell_type": "markdown",
   "metadata": {},
   "source": [
    "Decode bus positions JSON"
   ]
  },
  {
   "cell_type": "code",
   "execution_count": 5,
   "metadata": {},
   "outputs": [],
   "source": [
    "bus_positions_json = bus_positions.json()"
   ]
  },
  {
   "cell_type": "markdown",
   "metadata": {},
   "source": [
    "Parse through bus positions JSON and convert it to a pandas dataframe"
   ]
  },
  {
   "cell_type": "code",
   "execution_count": 6,
   "metadata": {},
   "outputs": [],
   "source": [
    "BlockNumber = []\n",
    "DateTime = []\n",
    "Deviation = []\n",
    "DirectionNum = []\n",
    "DirectionText = []\n",
    "Lat = []\n",
    "Lon = []\n",
    "RouteID = [] \n",
    "TripEndTime = [] \n",
    "TripHeadsign = []\n",
    "TripID = []\n",
    "TripStartTime = []\n",
    "VehicleID = []\n",
    "\n",
    "for i in bus_positions_json['BusPositions']:\n",
    "    BlockNumber.append(i['BlockNumber'])\n",
    "    DateTime.append(i['DateTime'])\n",
    "    Deviation.append(i['Deviation'])\n",
    "    DirectionNum.append(i['DirectionNum'])\n",
    "    DirectionText.append(i['DirectionText'])\n",
    "    Lat.append(i['Lat'])\n",
    "    Lon.append(i['Lon'])\n",
    "    RouteID.append(i['RouteID'])\n",
    "    TripEndTime.append(i['TripEndTime']) \n",
    "    TripHeadsign.append(i['TripHeadsign'])\n",
    "    TripID.append(i['TripID'])\n",
    "    TripStartTime.append(i['TripStartTime'])\n",
    "    VehicleID.append(i['VehicleID'])\n",
    "    \n",
    "bus_positions_df = pd.DataFrame(list(zip(BlockNumber, DateTime, Deviation, DirectionNum, DirectionText, Lat, Lon, RouteID, \n",
    "    TripEndTime, TripHeadsign, TripID, TripStartTime, VehicleID)), \n",
    "    columns=['BlockNumber','DateTime', 'Deviation', 'DirectionNum', 'DirectionText', 'Lat', 'Lon', 'RouteID',\n",
    "            'TripEndTime', 'TripHeadsign', 'TripID', 'TripStartTime', 'VehicleID'])"
   ]
  },
  {
   "cell_type": "markdown",
   "metadata": {},
   "source": [
    "Preview of bus positions dataframe"
   ]
  },
  {
   "cell_type": "code",
   "execution_count": 7,
   "metadata": {},
   "outputs": [
    {
     "data": {
      "text/html": [
       "<div>\n",
       "<style scoped>\n",
       "    .dataframe tbody tr th:only-of-type {\n",
       "        vertical-align: middle;\n",
       "    }\n",
       "\n",
       "    .dataframe tbody tr th {\n",
       "        vertical-align: top;\n",
       "    }\n",
       "\n",
       "    .dataframe thead th {\n",
       "        text-align: right;\n",
       "    }\n",
       "</style>\n",
       "<table border=\"1\" class=\"dataframe\">\n",
       "  <thead>\n",
       "    <tr style=\"text-align: right;\">\n",
       "      <th></th>\n",
       "      <th>BlockNumber</th>\n",
       "      <th>DateTime</th>\n",
       "      <th>Deviation</th>\n",
       "      <th>DirectionNum</th>\n",
       "      <th>DirectionText</th>\n",
       "      <th>Lat</th>\n",
       "      <th>Lon</th>\n",
       "      <th>RouteID</th>\n",
       "      <th>TripEndTime</th>\n",
       "      <th>TripHeadsign</th>\n",
       "      <th>TripID</th>\n",
       "      <th>TripStartTime</th>\n",
       "      <th>VehicleID</th>\n",
       "    </tr>\n",
       "  </thead>\n",
       "  <tbody>\n",
       "    <tr>\n",
       "      <th>0</th>\n",
       "      <td>B-330</td>\n",
       "      <td>2019-04-12T13:33:56</td>\n",
       "      <td>-8.0</td>\n",
       "      <td>0</td>\n",
       "      <td>EAST</td>\n",
       "      <td>38.886848</td>\n",
       "      <td>-77.001190</td>\n",
       "      <td>34</td>\n",
       "      <td>2019-04-12T11:48:00</td>\n",
       "      <td>NAYLOR RD STATION</td>\n",
       "      <td>940949060</td>\n",
       "      <td>2019-04-12T11:10:00</td>\n",
       "      <td>2877</td>\n",
       "    </tr>\n",
       "    <tr>\n",
       "      <th>1</th>\n",
       "      <td>LP-05</td>\n",
       "      <td>2019-04-12T13:33:54</td>\n",
       "      <td>0.0</td>\n",
       "      <td>0</td>\n",
       "      <td>EAST</td>\n",
       "      <td>38.819942</td>\n",
       "      <td>-76.989174</td>\n",
       "      <td>P12</td>\n",
       "      <td>2019-04-12T12:21:00</td>\n",
       "      <td>ADDISON RD STATION</td>\n",
       "      <td>918468060</td>\n",
       "      <td>2019-04-12T11:15:00</td>\n",
       "      <td>7396</td>\n",
       "    </tr>\n",
       "    <tr>\n",
       "      <th>2</th>\n",
       "      <td>MY-16</td>\n",
       "      <td>2019-04-12T13:33:36</td>\n",
       "      <td>0.0</td>\n",
       "      <td>1</td>\n",
       "      <td>SOUTH</td>\n",
       "      <td>38.994217</td>\n",
       "      <td>-77.028023</td>\n",
       "      <td>Y8</td>\n",
       "      <td>2019-04-12T13:00:00</td>\n",
       "      <td>SILVER SPRING STATION</td>\n",
       "      <td>925465060</td>\n",
       "      <td>2019-04-12T11:49:00</td>\n",
       "      <td>7253</td>\n",
       "    </tr>\n",
       "    <tr>\n",
       "      <th>3</th>\n",
       "      <td>MC-82</td>\n",
       "      <td>2019-04-12T13:33:47</td>\n",
       "      <td>9.0</td>\n",
       "      <td>0</td>\n",
       "      <td>EAST</td>\n",
       "      <td>38.978264</td>\n",
       "      <td>-76.927261</td>\n",
       "      <td>C8</td>\n",
       "      <td>2019-04-12T13:11:00</td>\n",
       "      <td>COLLEGE PARK STATION</td>\n",
       "      <td>895723060</td>\n",
       "      <td>2019-04-12T11:57:00</td>\n",
       "      <td>7078</td>\n",
       "    </tr>\n",
       "    <tr>\n",
       "      <th>4</th>\n",
       "      <td>BD-15</td>\n",
       "      <td>2019-04-12T13:33:32</td>\n",
       "      <td>-1.0</td>\n",
       "      <td>1</td>\n",
       "      <td>WEST</td>\n",
       "      <td>38.935810</td>\n",
       "      <td>-77.107536</td>\n",
       "      <td>D6</td>\n",
       "      <td>2019-04-12T13:21:00</td>\n",
       "      <td>SIBLEY HOSPITAL</td>\n",
       "      <td>927235060</td>\n",
       "      <td>2019-04-12T11:57:00</td>\n",
       "      <td>2870</td>\n",
       "    </tr>\n",
       "  </tbody>\n",
       "</table>\n",
       "</div>"
      ],
      "text/plain": [
       "  BlockNumber             DateTime  Deviation  DirectionNum DirectionText  \\\n",
       "0       B-330  2019-04-12T13:33:56       -8.0             0          EAST   \n",
       "1       LP-05  2019-04-12T13:33:54        0.0             0          EAST   \n",
       "2       MY-16  2019-04-12T13:33:36        0.0             1         SOUTH   \n",
       "3       MC-82  2019-04-12T13:33:47        9.0             0          EAST   \n",
       "4       BD-15  2019-04-12T13:33:32       -1.0             1          WEST   \n",
       "\n",
       "         Lat        Lon RouteID          TripEndTime           TripHeadsign  \\\n",
       "0  38.886848 -77.001190      34  2019-04-12T11:48:00      NAYLOR RD STATION   \n",
       "1  38.819942 -76.989174     P12  2019-04-12T12:21:00     ADDISON RD STATION   \n",
       "2  38.994217 -77.028023      Y8  2019-04-12T13:00:00  SILVER SPRING STATION   \n",
       "3  38.978264 -76.927261      C8  2019-04-12T13:11:00   COLLEGE PARK STATION   \n",
       "4  38.935810 -77.107536      D6  2019-04-12T13:21:00        SIBLEY HOSPITAL   \n",
       "\n",
       "      TripID        TripStartTime VehicleID  \n",
       "0  940949060  2019-04-12T11:10:00      2877  \n",
       "1  918468060  2019-04-12T11:15:00      7396  \n",
       "2  925465060  2019-04-12T11:49:00      7253  \n",
       "3  895723060  2019-04-12T11:57:00      7078  \n",
       "4  927235060  2019-04-12T11:57:00      2870  "
      ]
     },
     "execution_count": 7,
     "metadata": {},
     "output_type": "execute_result"
    }
   ],
   "source": [
    "bus_positions_df.head()"
   ]
  },
  {
   "cell_type": "markdown",
   "metadata": {},
   "source": [
    "Export bus positions to a CSV file"
   ]
  },
  {
   "cell_type": "code",
   "execution_count": 8,
   "metadata": {},
   "outputs": [],
   "source": [
    "bus_positions_df.to_csv('bus_positions.csv', encoding = 'utf-8')"
   ]
  }
 ],
 "metadata": {
  "kernelspec": {
   "display_name": "Python 2",
   "language": "python",
   "name": "python2"
  },
  "language_info": {
   "codemirror_mode": {
    "name": "ipython",
    "version": 2
   },
   "file_extension": ".py",
   "mimetype": "text/x-python",
   "name": "python",
   "nbconvert_exporter": "python",
   "pygments_lexer": "ipython2",
   "version": "2.7.14"
  }
 },
 "nbformat": 4,
 "nbformat_minor": 2
}
